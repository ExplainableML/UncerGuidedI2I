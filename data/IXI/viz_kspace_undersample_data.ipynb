{
 "cells": [
  {
   "cell_type": "code",
   "execution_count": 3,
   "metadata": {},
   "outputs": [],
   "source": [
    "import numpy as np\n",
    "import scipy as sp\n",
    "import random\n",
    "random.seed(0)\n",
    "import matplotlib.pyplot as plt\n",
    "import os, sys"
   ]
  },
  {
   "cell_type": "code",
   "execution_count": 28,
   "metadata": {},
   "outputs": [],
   "source": [
    "root_dir = './mc_slices/t1/'\n",
    "list_t1 = os.listdir(root_dir)\n",
    "\n",
    "def do_undersample(x, af=5):\n",
    "    r,c = x.shape\n",
    "    xf = np.fft.fftshift(np.fft.fft2(x))\n",
    "    mask = np.zeros_like(np.abs(xf))\n",
    "    \n",
    "    delta = int(af*r/100)//4\n",
    "    mask[r//2-delta:r//2+delta, :] = 1\n",
    "    upr_idx = random.sample(range(r//2-delta), delta)\n",
    "    mask[upr_idx, :] = 1\n",
    "    lwr_idx = random.sample(range(r//2+delta, r), delta)\n",
    "    mask[lwr_idx, :] = 1\n",
    "    \n",
    "    xfm = mask*xf\n",
    "    \n",
    "    xu = np.abs(np.fft.ifft2(np.fft.ifftshift(xfm)))\n",
    "    return xu\n",
    "\n",
    "for fn in list_t1:\n",
    "    x = np.load(root_dir+fn)\n",
    "    xu = do_undersample(x, af=12)\n",
    "#     plt.imshow(x, cmap='gray')\n",
    "#     plt.show()\n",
    "#     plt.imshow(xu, cmap='gray')\n",
    "#     plt.show()\n",
    "    np.save('./mc_slices/t1_undersampled/{}'.format(fn), xu)"
   ]
  },
  {
   "cell_type": "code",
   "execution_count": null,
   "metadata": {},
   "outputs": [],
   "source": []
  }
 ],
 "metadata": {
  "kernelspec": {
   "display_name": "Python 3",
   "language": "python",
   "name": "python3"
  },
  "language_info": {
   "codemirror_mode": {
    "name": "ipython",
    "version": 3
   },
   "file_extension": ".py",
   "mimetype": "text/x-python",
   "name": "python",
   "nbconvert_exporter": "python",
   "pygments_lexer": "ipython3",
   "version": "3.8.5"
  }
 },
 "nbformat": 4,
 "nbformat_minor": 4
}
