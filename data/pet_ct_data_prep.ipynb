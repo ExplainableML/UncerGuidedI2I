{
 "cells": [
  {
   "cell_type": "code",
   "execution_count": 1,
   "metadata": {},
   "outputs": [
    {
     "name": "stdout",
     "output_type": "stream",
     "text": [
      "If you use TorchIO for your research, please cite the following paper:\n",
      "Pérez-García et al., TorchIO: a Python library for efficient loading,\n",
      "preprocessing, augmentation and patch-based sampling of medical images\n",
      "in deep learning. Credits instructions: https://torchio.readthedocs.io/#credits\n",
      "\n"
     ]
    }
   ],
   "source": [
    "import numpy as np\n",
    "import scipy as sp\n",
    "import torchio as tio\n",
    "import os, sys\n",
    "import random\n",
    "import matplotlib.pyplot as plt\n",
    "random.seed(0)"
   ]
  },
  {
   "cell_type": "code",
   "execution_count": 2,
   "metadata": {},
   "outputs": [
    {
     "ename": "FileNotFoundError",
     "evalue": "[Errno 2] No such file or directory: '/mnt/Data_ubuntu/datasets/CT_PET_Corr_Uncorr/'",
     "output_type": "error",
     "traceback": [
      "\u001b[0;31m---------------------------------------------------------------------------\u001b[0m",
      "\u001b[0;31mFileNotFoundError\u001b[0m                         Traceback (most recent call last)",
      "\u001b[0;32m<ipython-input-2-aba2153ececb>\u001b[0m in \u001b[0;36m<module>\u001b[0;34m\u001b[0m\n\u001b[1;32m      1\u001b[0m \u001b[0mroot_dir\u001b[0m \u001b[0;34m=\u001b[0m \u001b[0;34m'/mnt/Data_ubuntu/datasets/CT_PET_Corr_Uncorr/'\u001b[0m\u001b[0;34m\u001b[0m\u001b[0;34m\u001b[0m\u001b[0m\n\u001b[0;32m----> 2\u001b[0;31m \u001b[0mlist_subs\u001b[0m \u001b[0;34m=\u001b[0m \u001b[0mos\u001b[0m\u001b[0;34m.\u001b[0m\u001b[0mlistdir\u001b[0m\u001b[0;34m(\u001b[0m\u001b[0mroot_dir\u001b[0m\u001b[0;34m)\u001b[0m\u001b[0;34m\u001b[0m\u001b[0;34m\u001b[0m\u001b[0m\n\u001b[0m\u001b[1;32m      3\u001b[0m \u001b[0mprint\u001b[0m\u001b[0;34m(\u001b[0m\u001b[0mlist_subs\u001b[0m\u001b[0;34m[\u001b[0m\u001b[0;36m0\u001b[0m\u001b[0;34m:\u001b[0m\u001b[0;36m3\u001b[0m\u001b[0;34m]\u001b[0m\u001b[0;34m,\u001b[0m \u001b[0mlen\u001b[0m\u001b[0;34m(\u001b[0m\u001b[0mlist_subs\u001b[0m\u001b[0;34m)\u001b[0m\u001b[0;34m)\u001b[0m\u001b[0;34m\u001b[0m\u001b[0;34m\u001b[0m\u001b[0m\n\u001b[1;32m      4\u001b[0m \u001b[0;34m\u001b[0m\u001b[0m\n\u001b[1;32m      5\u001b[0m \u001b[0;32mwith\u001b[0m \u001b[0mopen\u001b[0m\u001b[0;34m(\u001b[0m\u001b[0;34m'all_subs_mapping.txt'\u001b[0m\u001b[0;34m,\u001b[0m \u001b[0;34m'w'\u001b[0m\u001b[0;34m)\u001b[0m \u001b[0;32mas\u001b[0m \u001b[0mf\u001b[0m\u001b[0;34m:\u001b[0m\u001b[0;34m\u001b[0m\u001b[0;34m\u001b[0m\u001b[0m\n",
      "\u001b[0;31mFileNotFoundError\u001b[0m: [Errno 2] No such file or directory: '/mnt/Data_ubuntu/datasets/CT_PET_Corr_Uncorr/'"
     ]
    }
   ],
   "source": [
    "root_dir = '/mnt/Data_ubuntu/datasets/CT_PET_Corr_Uncorr/'\n",
    "list_subs = os.listdir(root_dir)\n",
    "print(list_subs[0:3], len(list_subs))\n",
    "\n",
    "with open('all_subs_mapping.txt', 'w') as f:\n",
    "    for sid, l in enumerate(list_subs):\n",
    "        f.write('{} -- {}\\n'.format(l, sid))\n",
    "        # id 0 to 30 training; 31 to 35 val; rest testing\n",
    "        \n",
    "def get_crop_according_To_ct(CT_img, PET_img, PET_corr_img, thr):\n",
    "    mask = CT_img<thr\n",
    "    _, X, Y, _ = np.where(mask==True)\n",
    "    x1, y1 = X[0], Y[0]\n",
    "    x2, y2 = X[-1], Y[-1]\n",
    "    c1 = CT_img[0,x1:x2, y1:y2,:]\n",
    "    c2 = PET_img[0,x1:x2, y1:y2,:]\n",
    "    c3 = PET_corr_img[0,x1:x2, y1:y2,:]\n",
    "    return c1, c2, c3\n",
    "#     plt.imshow(CT_img[0,x1:x2, y1:y2,idx]/1000, cmap='gray')\n",
    "#     plt.colorbar()\n",
    "#     plt.show()\n",
    "#     plt.imshow(PET_img[0,x1:x2, y1:y2,idx], cmap='gray')\n",
    "#     plt.colorbar()\n",
    "#     plt.show()\n",
    "#     a = PET_img[0,x1:x2, y1:y2,idx]\n",
    "#     plt.imshow(np.log(np.clip(a, a_min=1, a_max=np.max(a.numpy()))), cmap='gray')\n",
    "#     plt.colorbar()\n",
    "#     plt.show()\n",
    "\n",
    "def get_ct_uncorr_corr_series(root_dir, subname):\n",
    "    all_series = os.listdir(root_dir+subname)\n",
    "    for s in all_series:\n",
    "        if 'CT' in s:\n",
    "            ct_img = tio.ScalarImage(root_dir+subname+'/'+s+'/')\n",
    "        elif 'uncorr' in s:\n",
    "            uncorr_img = tio.ScalarImage(root_dir+subname+'/'+s+'/')\n",
    "        elif 'PET corr' in s:\n",
    "            corr_img = tio.ScalarImage(root_dir+subname+'/'+s+'/')\n",
    "    #transform all to uncorr\n",
    "    transform = tio.Resample(uncorr_img)\n",
    "    ct_img = transform(ct_img)\n",
    "    corr_img = transform(corr_img)\n",
    "    \n",
    "    return ct_img.numpy(), uncorr_img.numpy(), corr_img.numpy()"
   ]
  },
  {
   "cell_type": "code",
   "execution_count": 41,
   "metadata": {
    "scrolled": true
   },
   "outputs": [
    {
     "name": "stdout",
     "output_type": "stream",
     "text": [
      "(170, 170, 116) (170, 170, 116) (170, 170, 116)\n",
      "(145, 145, 116) (145, 145, 116) (145, 145, 116)\n",
      "(175, 175, 116) (175, 175, 116) (175, 175, 116)\n",
      "(144, 144, 116) (144, 144, 116) (144, 144, 116)\n",
      "(175, 175, 116) (175, 175, 116) (175, 175, 116)\n",
      "(140, 139, 116) (140, 139, 116) (140, 139, 116)\n",
      "(133, 133, 116) (133, 133, 116) (133, 133, 116)\n",
      "(141, 141, 116) (141, 141, 116) (141, 141, 116)\n",
      "(135, 135, 116) (135, 135, 116) (135, 135, 116)\n",
      "(137, 138, 116) (137, 138, 116) (137, 138, 116)\n",
      "(152, 153, 116) (152, 153, 116) (152, 153, 116)\n",
      "(130, 131, 116) (130, 131, 116) (130, 131, 116)\n",
      "(160, 160, 116) (160, 160, 116) (160, 160, 116)\n",
      "(148, 148, 116) (148, 148, 116) (148, 148, 116)\n",
      "(135, 135, 116) (135, 135, 116) (135, 135, 116)\n",
      "(154, 154, 116) (154, 154, 116) (154, 154, 116)\n",
      "(130, 130, 116) (130, 130, 116) (130, 130, 116)\n",
      "(154, 154, 116) (154, 154, 116) (154, 154, 116)\n",
      "(137, 137, 116) (137, 137, 116) (137, 137, 116)\n",
      "(160, 159, 116) (160, 159, 116) (160, 159, 116)\n",
      "(152, 152, 116) (152, 152, 116) (152, 152, 116)\n",
      "(131, 131, 116) (131, 131, 116) (131, 131, 116)\n",
      "(179, 179, 116) (179, 179, 116) (179, 179, 116)\n",
      "(139, 140, 116) (139, 140, 116) (139, 140, 116)\n",
      "(157, 157, 116) (157, 157, 116) (157, 157, 116)\n",
      "(148, 148, 116) (148, 148, 116) (148, 148, 116)\n",
      "(179, 179, 116) (179, 179, 116) (179, 179, 116)\n",
      "(132, 132, 116) (132, 132, 116) (132, 132, 116)\n",
      "(156, 156, 116) (156, 156, 116) (156, 156, 116)\n",
      "(134, 134, 116) (134, 134, 116) (134, 134, 116)\n",
      "(147, 147, 116) (147, 147, 116) (147, 147, 116)\n",
      "(158, 158, 116) (158, 158, 116) (158, 158, 116)\n",
      "(136, 136, 116) (136, 136, 116) (136, 136, 116)\n",
      "(155, 156, 116) (155, 156, 116) (155, 156, 116)\n",
      "(134, 134, 116) (134, 134, 116) (134, 134, 116)\n",
      "(140, 140, 116) (140, 140, 116) (140, 140, 116)\n",
      "(150, 150, 116) (150, 150, 116) (150, 150, 116)\n",
      "(160, 159, 116) (160, 159, 116) (160, 159, 116)\n",
      "(153, 153, 116) (153, 153, 116) (153, 153, 116)\n",
      "(154, 155, 116) (154, 155, 116) (154, 155, 116)\n",
      "(183, 182, 116) (183, 182, 116) (183, 182, 116)\n",
      "(158, 157, 116) (158, 157, 116) (158, 157, 116)\n",
      "(137, 137, 116) (137, 137, 116) (137, 137, 116)\n",
      "(167, 168, 116) (167, 168, 116) (167, 168, 116)\n",
      "(142, 143, 116) (142, 143, 116) (142, 143, 116)\n",
      "(143, 144, 116) (143, 144, 116) (143, 144, 116)\n",
      "(173, 173, 116) (173, 173, 116) (173, 173, 116)\n",
      "(152, 153, 116) (152, 153, 116) (152, 153, 116)\n",
      "(157, 157, 116) (157, 157, 116) (157, 157, 116)\n"
     ]
    }
   ],
   "source": [
    "for sid, s in enumerate(list_subs):\n",
    "    ct_img, uncorr_img, corr_img = get_ct_uncorr_corr_series(root_dir, s)\n",
    "    ct_crop, uncorr_crop, corr_crop = get_crop_according_To_ct(ct_img, uncorr_img, corr_img, 0)\n",
    "    print(ct_crop.shape, uncorr_crop.shape, corr_crop.shape)\n",
    "    #60 to 105 is roughly head region\n",
    "    for i in range(60,ct_crop.shape[2]-10):\n",
    "        from skimage.transform import resize\n",
    "        ct_slice = resize(ct_crop[:,:,i], (196,196))\n",
    "        print(np.max(ct_slice), np.min(ct_slice))\n",
    "        uncorr_slice = resize(uncorr_crop[:,:,i], (196,196))\n",
    "        print(np.max(uncorr_slice), np.min(uncorr_slice))\n",
    "        corr_slice = resize(corr_crop[:,:,i], (196,196))\n",
    "        print(np.max(corr_slice), np.min(corr_slice))\n",
    "        \n",
    "        np.save('./multimodal_slices/ct/sub{}_slice{}.npy'.format(sid, i), ct_slice)\n",
    "        np.save('./multimodal_slices/uncorr/sub{}_slice{}.npy'.format(sid, i), uncorr_slice)\n",
    "        np.save('./multimodal_slices/corr/sub{}_slice{}.npy'.format(sid, i), corr_slice)\n",
    "        \n",
    "#         print(i)\n",
    "#         plt.figure(figsize=(12,5))\n",
    "#         plt.subplot(1,3,1)\n",
    "#         plt.imshow(ct_crop[:,:,i]/1000, cmap='gray')\n",
    "#         plt.colorbar()\n",
    "#         plt.subplot(1,3,2)\n",
    "#         plt.imshow(np.log(np.clip(uncorr_crop[:,:,i], 1, np.max(uncorr_crop[:,:,i])))/10, cmap='gray')\n",
    "#         plt.colorbar()\n",
    "#         plt.subplot(1,3,3)\n",
    "#         plt.imshow(np.log(np.clip(corr_crop[:,:,i], 1, np.max(corr_crop[:,:,i])))/10, cmap='gray')\n",
    "#         plt.colorbar()\n",
    "#         plt.show()\n",
    "#     break"
   ]
  },
  {
   "cell_type": "code",
   "execution_count": 38,
   "metadata": {},
   "outputs": [],
   "source": [
    "for sid, s in enumerate(list_subs):\n",
    "    if sid<35:\n",
    "        with open('train_split.txt', 'a') as f:\n",
    "            for i in range(60,106):\n",
    "                f.write('sub{}_slice{}.npy\\n'.format(sid, i))\n",
    "    elif sid>35 and sid<40:\n",
    "        with open('val_split.txt', 'a') as f:\n",
    "            for i in range(60,106):\n",
    "                f.write('sub{}_slice{}.npy\\n'.format(sid, i))\n",
    "    elif sid>40:\n",
    "        with open('test_split.txt', 'a') as f:\n",
    "            for i in range(60,106):\n",
    "                f.write('sub{}_slice{}.npy\\n'.format(sid, i))"
   ]
  }
 ],
 "metadata": {
  "kernelspec": {
   "display_name": "Python 3",
   "language": "python",
   "name": "python3"
  },
  "language_info": {
   "codemirror_mode": {
    "name": "ipython",
    "version": 3
   },
   "file_extension": ".py",
   "mimetype": "text/x-python",
   "name": "python",
   "nbconvert_exporter": "python",
   "pygments_lexer": "ipython3",
   "version": "3.8.5"
  }
 },
 "nbformat": 4,
 "nbformat_minor": 4
}
